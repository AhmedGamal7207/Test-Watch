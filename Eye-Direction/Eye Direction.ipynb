{
 "cells": [
  {
   "cell_type": "code",
   "execution_count": 1,
   "id": "c4912850",
   "metadata": {},
   "outputs": [],
   "source": [
    "from tensorflow.keras.models import Sequential, load_model\n",
    "from tensorflow.keras.layers import Dense, Convolution2D, MaxPooling2D, Flatten, Dropout \n",
    "from tensorflow.keras.preprocessing import image\n",
    "import numpy as np"
   ]
  },
  {
   "cell_type": "code",
   "execution_count": 2,
   "id": "536b4e42",
   "metadata": {},
   "outputs": [],
   "source": [
    "from tensorflow.keras.preprocessing.image import ImageDataGenerator\n",
    "train_datagen = ImageDataGenerator (rescale= 1./255, shear_range= 0.2, zoom_range= 0.2, horizontal_flip=True)\n",
    "test_datagen = ImageDataGenerator (rescale= 1./255)"
   ]
  },
  {
   "cell_type": "code",
   "execution_count": 3,
   "id": "384846b7",
   "metadata": {},
   "outputs": [
    {
     "name": "stdout",
     "output_type": "stream",
     "text": [
      "Found 4820 images belonging to 2 classes.\n",
      "Found 2255 images belonging to 2 classes.\n"
     ]
    }
   ],
   "source": [
    "x_train = train_datagen.flow_from_directory(r\"C:\\Users\\sonali\\Downloads\\eye detection\\eye_direction\\train\",target_size = (64,64),batch_size = 32,class_mode = \"categorical\")\n",
    "x_test = test_datagen.flow_from_directory(r\"C:\\Users\\sonali\\Downloads\\eye detection\\eye_direction\\test\",target_size = (64,64),batch_size = 32,class_mode = \"categorical\")"
   ]
  },
  {
   "cell_type": "code",
   "execution_count": 4,
   "id": "a0c98382",
   "metadata": {},
   "outputs": [
    {
     "data": {
      "text/plain": [
       "{'left': 0, 'right': 1}"
      ]
     },
     "execution_count": 4,
     "metadata": {},
     "output_type": "execute_result"
    }
   ],
   "source": [
    "x_train.class_indices"
   ]
  },
  {
   "cell_type": "code",
   "execution_count": 5,
   "id": "170116c7",
   "metadata": {},
   "outputs": [],
   "source": [
    "model= Sequential()\n",
    "\n",
    "model.add(Convolution2D(32,(3,3), input_shape=(64,64,3),activation='relu'))\n",
    "model.add(Dropout(0.5))\n",
    "model.add(Convolution2D(32,(3,3), input_shape=(64,64,3),activation='relu'))\n",
    "model.add(Dropout(0.5))\n",
    "model.add(Convolution2D(32,(3,3), input_shape=(64,64,3),activation='relu'))\n",
    "model.add(Dropout(0.5))\n",
    "\n",
    "model.add(Flatten())\n",
    "\n",
    "model.add(Dense(units=128, kernel_initializer=\"random_uniform\", activation= \"relu\"))\n",
    "model.add(Dropout(0.25))\n",
    "model.add(Dense(units=2, kernel_initializer=\"random_uniform\", activation= \"softmax\"))"
   ]
  },
  {
   "cell_type": "code",
   "execution_count": 8,
   "id": "7707a5a2",
   "metadata": {},
   "outputs": [],
   "source": [
    "model.compile(optimizer='adam', loss = 'categorical_crossentropy',metrics = ['accuracy'])"
   ]
  },
  {
   "cell_type": "code",
   "execution_count": 9,
   "id": "4c000e41",
   "metadata": {},
   "outputs": [
    {
     "name": "stdout",
     "output_type": "stream",
     "text": [
      "Epoch 1/37\n",
      "150/150 [==============================] - 46s 308ms/step - loss: 0.5636 - accuracy: 0.6850 - val_loss: 1.0926 - val_accuracy: 0.3094\n",
      "Epoch 2/37\n",
      "150/150 [==============================] - 47s 314ms/step - loss: 0.5385 - accuracy: 0.7070 - val_loss: 1.0964 - val_accuracy: 0.2734\n",
      "Epoch 3/37\n",
      "150/150 [==============================] - 48s 319ms/step - loss: 0.5220 - accuracy: 0.7222 - val_loss: 1.7097 - val_accuracy: 0.3562\n",
      "Epoch 4/37\n",
      "150/150 [==============================] - 48s 322ms/step - loss: 0.4999 - accuracy: 0.7308 - val_loss: 1.4840 - val_accuracy: 0.3063\n",
      "Epoch 5/37\n",
      "150/150 [==============================] - 48s 319ms/step - loss: 0.4688 - accuracy: 0.7410 - val_loss: 1.4034 - val_accuracy: 0.2875\n",
      "Epoch 6/37\n",
      "150/150 [==============================] - 48s 320ms/step - loss: 0.4512 - accuracy: 0.7496 - val_loss: 1.6010 - val_accuracy: 0.3156\n",
      "Epoch 7/37\n",
      "150/150 [==============================] - 48s 320ms/step - loss: 0.4337 - accuracy: 0.7519 - val_loss: 2.2108 - val_accuracy: 0.3250\n",
      "Epoch 8/37\n",
      "150/150 [==============================] - 48s 320ms/step - loss: 0.4272 - accuracy: 0.7650 - val_loss: 2.6303 - val_accuracy: 0.2766\n",
      "Epoch 9/37\n",
      "150/150 [==============================] - 48s 320ms/step - loss: 0.4188 - accuracy: 0.7598 - val_loss: 2.7926 - val_accuracy: 0.2422\n",
      "Epoch 10/37\n",
      "150/150 [==============================] - 48s 322ms/step - loss: 0.4004 - accuracy: 0.7598 - val_loss: 2.3967 - val_accuracy: 0.3234\n",
      "Epoch 11/37\n",
      "150/150 [==============================] - 49s 326ms/step - loss: 0.3985 - accuracy: 0.7755 - val_loss: 2.4753 - val_accuracy: 0.3187\n",
      "Epoch 12/37\n",
      "150/150 [==============================] - 49s 324ms/step - loss: 0.3926 - accuracy: 0.7761 - val_loss: 2.9841 - val_accuracy: 0.3359\n",
      "Epoch 13/37\n",
      "150/150 [==============================] - 48s 320ms/step - loss: 0.3929 - accuracy: 0.7767 - val_loss: 2.6222 - val_accuracy: 0.3109\n",
      "Epoch 14/37\n",
      "150/150 [==============================] - 48s 320ms/step - loss: 0.3689 - accuracy: 0.7761 - val_loss: 3.4314 - val_accuracy: 0.2906\n",
      "Epoch 15/37\n",
      "150/150 [==============================] - 48s 321ms/step - loss: 0.3704 - accuracy: 0.7790 - val_loss: 3.7241 - val_accuracy: 0.3266\n",
      "Epoch 16/37\n",
      "150/150 [==============================] - 48s 320ms/step - loss: 0.3725 - accuracy: 0.7822 - val_loss: 3.4113 - val_accuracy: 0.3125\n",
      "Epoch 17/37\n",
      "150/150 [==============================] - 48s 320ms/step - loss: 0.3675 - accuracy: 0.7744 - val_loss: 3.9610 - val_accuracy: 0.2719\n",
      "Epoch 18/37\n",
      "150/150 [==============================] - 1311s 9s/step - loss: 0.3606 - accuracy: 0.7838 - val_loss: 4.0041 - val_accuracy: 0.2891\n",
      "Epoch 19/37\n",
      "150/150 [==============================] - 45s 302ms/step - loss: 0.3613 - accuracy: 0.7840 - val_loss: 4.0811 - val_accuracy: 0.3109\n",
      "Epoch 20/37\n",
      "150/150 [==============================] - 49s 327ms/step - loss: 0.3528 - accuracy: 0.7847 - val_loss: 5.4516 - val_accuracy: 0.3000\n",
      "Epoch 21/37\n",
      "150/150 [==============================] - 55s 368ms/step - loss: 0.3586 - accuracy: 0.7790 - val_loss: 4.0530 - val_accuracy: 0.3063\n",
      "Epoch 22/37\n",
      "150/150 [==============================] - 49s 327ms/step - loss: 0.3461 - accuracy: 0.7803 - val_loss: 4.6905 - val_accuracy: 0.3516\n",
      "Epoch 23/37\n",
      "150/150 [==============================] - 47s 315ms/step - loss: 0.3508 - accuracy: 0.7801 - val_loss: 3.9628 - val_accuracy: 0.3328\n",
      "Epoch 24/37\n",
      "150/150 [==============================] - 48s 321ms/step - loss: 0.3478 - accuracy: 0.7843 - val_loss: 5.2152 - val_accuracy: 0.2969\n",
      "Epoch 25/37\n",
      "150/150 [==============================] - 47s 314ms/step - loss: 0.3404 - accuracy: 0.7843 - val_loss: 4.0834 - val_accuracy: 0.2688\n",
      "Epoch 26/37\n",
      "150/150 [==============================] - 47s 315ms/step - loss: 0.3438 - accuracy: 0.7820 - val_loss: 5.9681 - val_accuracy: 0.3297\n",
      "Epoch 27/37\n",
      "150/150 [==============================] - 47s 313ms/step - loss: 0.3438 - accuracy: 0.7776 - val_loss: 4.2823 - val_accuracy: 0.3203\n",
      "Epoch 28/37\n",
      "150/150 [==============================] - 47s 314ms/step - loss: 0.3516 - accuracy: 0.7742 - val_loss: 5.2847 - val_accuracy: 0.2984\n",
      "Epoch 29/37\n",
      "150/150 [==============================] - 47s 313ms/step - loss: 0.3413 - accuracy: 0.7815 - val_loss: 5.2544 - val_accuracy: 0.3016\n",
      "Epoch 30/37\n",
      "150/150 [==============================] - 47s 314ms/step - loss: 0.3421 - accuracy: 0.7888 - val_loss: 4.6547 - val_accuracy: 0.2906\n",
      "Epoch 31/37\n",
      "150/150 [==============================] - 48s 318ms/step - loss: 0.3422 - accuracy: 0.7872 - val_loss: 5.7594 - val_accuracy: 0.2719\n",
      "Epoch 32/37\n",
      "150/150 [==============================] - 49s 324ms/step - loss: 0.3439 - accuracy: 0.7849 - val_loss: 6.3090 - val_accuracy: 0.3203\n",
      "Epoch 33/37\n",
      "150/150 [==============================] - 54s 357ms/step - loss: 0.3397 - accuracy: 0.7909 - val_loss: 3.5415 - val_accuracy: 0.2594\n",
      "Epoch 34/37\n",
      "150/150 [==============================] - 55s 363ms/step - loss: 0.3351 - accuracy: 0.7886 - val_loss: 4.2918 - val_accuracy: 0.2922\n",
      "Epoch 35/37\n",
      "150/150 [==============================] - 51s 340ms/step - loss: 0.3398 - accuracy: 0.7817 - val_loss: 5.0776 - val_accuracy: 0.2875\n",
      "Epoch 36/37\n",
      "150/150 [==============================] - 52s 349ms/step - loss: 0.3324 - accuracy: 0.7870 - val_loss: 3.1189 - val_accuracy: 0.3516\n",
      "Epoch 37/37\n",
      "150/150 [==============================] - 55s 367ms/step - loss: 0.3370 - accuracy: 0.7930 - val_loss: 4.6473 - val_accuracy: 0.3469\n"
     ]
    },
    {
     "data": {
      "text/plain": [
       "<keras.callbacks.History at 0x29193f08f10>"
      ]
     },
     "execution_count": 9,
     "metadata": {},
     "output_type": "execute_result"
    }
   ],
   "source": [
    "model.fit(x_train, epochs=37, validation_data= x_test, validation_steps=20, steps_per_epoch=150)"
   ]
  },
  {
   "cell_type": "code",
   "execution_count": null,
   "id": "21ffcebb",
   "metadata": {},
   "outputs": [],
   "source": [
    "model.save(\"eye_direction.h5\")"
   ]
  },
  {
   "cell_type": "code",
   "execution_count": null,
   "id": "d893c2f0",
   "metadata": {},
   "outputs": [],
   "source": [
    "img=image.load_img(r\"C:\\Users\\sonali\\Downloads\\eye detection\\eye_direction\\images\\left.jpeg\", target_size= (64,64))\n",
    "x=image.img_to_array(img)\n",
    "x=np.expand_dims(x,axis=0)\n",
    "pred=np.argmax(model.predict(x))\n",
    "if pred == 0:\n",
    "    print(\"left\")\n",
    "else:\n",
    "    print(\"right\")"
   ]
  }
 ],
 "metadata": {
  "kernelspec": {
   "display_name": "Python 3 (ipykernel)",
   "language": "python",
   "name": "python3"
  },
  "language_info": {
   "codemirror_mode": {
    "name": "ipython",
    "version": 3
   },
   "file_extension": ".py",
   "mimetype": "text/x-python",
   "name": "python",
   "nbconvert_exporter": "python",
   "pygments_lexer": "ipython3",
   "version": "3.9.6"
  }
 },
 "nbformat": 4,
 "nbformat_minor": 5
}
