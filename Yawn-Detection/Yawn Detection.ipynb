{
 "cells": [
  {
   "cell_type": "code",
   "execution_count": 1,
   "id": "9694ee19",
   "metadata": {},
   "outputs": [],
   "source": [
    "from tensorflow.keras.models import Sequential, load_model\n",
    "from tensorflow.keras.layers import Dense, Convolution2D, MaxPooling2D, Flatten, Dropout\n",
    "from tensorflow.keras.preprocessing import image\n",
    "import numpy as np"
   ]
  },
  {
   "cell_type": "code",
   "execution_count": 2,
   "id": "ea51f459",
   "metadata": {},
   "outputs": [],
   "source": [
    "from tensorflow.keras.preprocessing.image import ImageDataGenerator\n",
    "train_datagen = ImageDataGenerator (rescale= 1./255, shear_range= 0.2, zoom_range= 0.2, horizontal_flip=True)\n",
    "test_datagen = ImageDataGenerator (rescale= 1./255)"
   ]
  },
  {
   "cell_type": "code",
   "execution_count": 3,
   "id": "648f9141",
   "metadata": {},
   "outputs": [
    {
     "name": "stdout",
     "output_type": "stream",
     "text": [
      "Found 1620 images belonging to 2 classes.\n",
      "Found 206 images belonging to 2 classes.\n"
     ]
    }
   ],
   "source": [
    "x_train = train_datagen.flow_from_directory(r\"D:\\Work\\Genio Tech Online\\AI Models\\Workspace\\Test-Watch\\dataset\\yawn detection\\train\",target_size = (64,64),batch_size = 32,class_mode = \"categorical\")\n",
    "x_test = test_datagen.flow_from_directory(r\"D:\\Work\\Genio Tech Online\\AI Models\\Workspace\\Test-Watch\\dataset\\yawn detection\\test\",target_size = (64,64),batch_size = 32,class_mode = \"categorical\")"
   ]
  },
  {
   "cell_type": "code",
   "execution_count": 4,
   "id": "6804e531",
   "metadata": {},
   "outputs": [
    {
     "data": {
      "text/plain": [
       "{'no_yawn': 0, 'yawn': 1}"
      ]
     },
     "execution_count": 4,
     "metadata": {},
     "output_type": "execute_result"
    }
   ],
   "source": [
    "x_train.class_indices"
   ]
  },
  {
   "cell_type": "code",
   "execution_count": 5,
   "id": "1a7290d9",
   "metadata": {},
   "outputs": [],
   "source": [
    "model= Sequential()\n",
    "model.add(Convolution2D(32,(3,3), input_shape=(64,64,3)))\n",
    "model.add(Flatten())\n",
    "model.add(Dropout(0.5))\n",
    "model.add(Dense(units=128, kernel_initializer=\"random_uniform\", activation= \"relu\"))\n",
    "#add output layer\n",
    "model.add(Dense(units=2, kernel_initializer=\"random_uniform\", activation= \"softmax\"))\n",
    "#compile the model\n",
    "model.compile(optimizer=\"adam\", loss=\"categorical_crossentropy\" , metrics=[\"accuracy\"])"
   ]
  },
  {
   "cell_type": "code",
   "execution_count": 12,
   "id": "b1fbe004",
   "metadata": {},
   "outputs": [
    {
     "name": "stdout",
     "output_type": "stream",
     "text": [
      "Epoch 1/30\n",
      "50/50 [==============================] - ETA: 0s - loss: 0.3864 - accuracy: 0.8193WARNING:tensorflow:Your input ran out of data; interrupting training. Make sure that your dataset or generator can generate at least `steps_per_epoch * epochs` batches (in this case, 20 batches). You may need to use the repeat() function when building your dataset.\n",
      "50/50 [==============================] - 11s 217ms/step - loss: 0.3864 - accuracy: 0.8193 - val_loss: 0.8501 - val_accuracy: 0.4612\n",
      "Epoch 2/30\n",
      "50/50 [==============================] - 11s 218ms/step - loss: 0.3765 - accuracy: 0.8168\n",
      "Epoch 3/30\n",
      "50/50 [==============================] - 11s 216ms/step - loss: 0.3580 - accuracy: 0.8344\n",
      "Epoch 4/30\n",
      "50/50 [==============================] - 11s 217ms/step - loss: 0.3292 - accuracy: 0.8495\n",
      "Epoch 5/30\n",
      "50/50 [==============================] - 11s 217ms/step - loss: 0.3208 - accuracy: 0.8514\n",
      "Epoch 6/30\n",
      "50/50 [==============================] - 11s 219ms/step - loss: 0.3169 - accuracy: 0.8621\n",
      "Epoch 7/30\n",
      "50/50 [==============================] - 11s 217ms/step - loss: 0.2873 - accuracy: 0.8615\n",
      "Epoch 8/30\n",
      "50/50 [==============================] - 11s 214ms/step - loss: 0.2802 - accuracy: 0.8753\n",
      "Epoch 9/30\n",
      "50/50 [==============================] - 11s 216ms/step - loss: 0.3095 - accuracy: 0.8558\n",
      "Epoch 10/30\n",
      "50/50 [==============================] - 11s 213ms/step - loss: 0.2926 - accuracy: 0.8596\n",
      "Epoch 11/30\n",
      "50/50 [==============================] - 11s 215ms/step - loss: 0.2505 - accuracy: 0.8860\n",
      "Epoch 12/30\n",
      "50/50 [==============================] - 11s 215ms/step - loss: 0.2475 - accuracy: 0.8923\n",
      "Epoch 13/30\n",
      "50/50 [==============================] - 11s 215ms/step - loss: 0.2369 - accuracy: 0.8961\n",
      "Epoch 14/30\n",
      "50/50 [==============================] - 10s 210ms/step - loss: 0.2654 - accuracy: 0.8816\n",
      "Epoch 15/30\n",
      "50/50 [==============================] - 11s 216ms/step - loss: 0.2266 - accuracy: 0.9055\n",
      "Epoch 16/30\n",
      "50/50 [==============================] - 11s 210ms/step - loss: 0.2094 - accuracy: 0.9037\n",
      "Epoch 17/30\n",
      "50/50 [==============================] - 11s 215ms/step - loss: 0.2154 - accuracy: 0.9062\n",
      "Epoch 18/30\n",
      "50/50 [==============================] - 11s 217ms/step - loss: 0.2153 - accuracy: 0.9137\n",
      "Epoch 19/30\n",
      "50/50 [==============================] - 11s 214ms/step - loss: 0.1898 - accuracy: 0.9188\n",
      "Epoch 20/30\n",
      "50/50 [==============================] - 11s 215ms/step - loss: 0.1985 - accuracy: 0.9150\n",
      "Epoch 21/30\n",
      "50/50 [==============================] - 11s 217ms/step - loss: 0.1877 - accuracy: 0.9244\n",
      "Epoch 22/30\n",
      "50/50 [==============================] - 11s 216ms/step - loss: 0.1785 - accuracy: 0.9188\n",
      "Epoch 23/30\n",
      "50/50 [==============================] - 11s 216ms/step - loss: 0.1719 - accuracy: 0.9288\n",
      "Epoch 24/30\n",
      "50/50 [==============================] - 11s 213ms/step - loss: 0.1747 - accuracy: 0.9295\n",
      "Epoch 25/30\n",
      "50/50 [==============================] - 19s 379ms/step - loss: 0.1688 - accuracy: 0.9351\n",
      "Epoch 26/30\n",
      "50/50 [==============================] - 16s 323ms/step - loss: 0.1577 - accuracy: 0.9395\n",
      "Epoch 27/30\n",
      "50/50 [==============================] - 11s 216ms/step - loss: 0.1535 - accuracy: 0.9345\n",
      "Epoch 28/30\n",
      "50/50 [==============================] - 11s 208ms/step - loss: 0.1457 - accuracy: 0.9408\n",
      "Epoch 29/30\n",
      "50/50 [==============================] - 11s 215ms/step - loss: 0.1661 - accuracy: 0.9364\n",
      "Epoch 30/30\n",
      "50/50 [==============================] - 11s 216ms/step - loss: 0.1598 - accuracy: 0.9345\n"
     ]
    },
    {
     "data": {
      "text/plain": [
       "<keras.callbacks.History at 0x1c387193100>"
      ]
     },
     "execution_count": 12,
     "metadata": {},
     "output_type": "execute_result"
    }
   ],
   "source": [
    "model.fit_generator(x_train, steps_per_epoch=50, epochs=30, validation_data= x_test, validation_steps=20)"
   ]
  },
  {
   "cell_type": "code",
   "execution_count": 7,
   "id": "bc8ab470",
   "metadata": {},
   "outputs": [
    {
     "name": "stdout",
     "output_type": "stream",
     "text": [
      "Model: \"sequential\"\n",
      "_________________________________________________________________\n",
      "Layer (type)                 Output Shape              Param #   \n",
      "=================================================================\n",
      "conv2d (Conv2D)              (None, 62, 62, 32)        896       \n",
      "_________________________________________________________________\n",
      "flatten (Flatten)            (None, 123008)            0         \n",
      "_________________________________________________________________\n",
      "dropout (Dropout)            (None, 123008)            0         \n",
      "_________________________________________________________________\n",
      "dense (Dense)                (None, 128)               15745152  \n",
      "_________________________________________________________________\n",
      "dense_1 (Dense)              (None, 2)                 258       \n",
      "=================================================================\n",
      "Total params: 15,746,306\n",
      "Trainable params: 15,746,306\n",
      "Non-trainable params: 0\n",
      "_________________________________________________________________\n",
      "None\n"
     ]
    }
   ],
   "source": [
    "print(model.summary())"
   ]
  },
  {
   "cell_type": "code",
   "execution_count": 8,
   "id": "205e4c6f",
   "metadata": {},
   "outputs": [],
   "source": [
    "model.save(\"yawn_detection.h5\")"
   ]
  },
  {
   "cell_type": "code",
   "execution_count": 9,
   "id": "c2774989",
   "metadata": {},
   "outputs": [],
   "source": [
    "model= load_model(\"yawn_detection.h5\")"
   ]
  },
  {
   "cell_type": "code",
   "execution_count": 31,
   "id": "143f1763",
   "metadata": {},
   "outputs": [],
   "source": [
    "img=image.load_img(r\"C:\\Users\\sonali\\Pictures\\Camera Roll\\WIN_20210918_12_12_22_Pro.jpg\", target_size= (64,64))\n",
    "x=image.img_to_array(img)\n",
    "x=np.expand_dims(x,axis=0)"
   ]
  },
  {
   "cell_type": "code",
   "execution_count": 32,
   "id": "ee40d693",
   "metadata": {},
   "outputs": [],
   "source": [
    "pred=np.argmax(model.predict(x))"
   ]
  },
  {
   "cell_type": "code",
   "execution_count": 33,
   "id": "d2d0f714",
   "metadata": {},
   "outputs": [
    {
     "name": "stdout",
     "output_type": "stream",
     "text": [
      "not yawning\n"
     ]
    }
   ],
   "source": [
    "if pred == 0:\n",
    "    print(\"not yawning\")\n",
    "else:\n",
    "    print(\"yawning\")"
   ]
  },
  {
   "cell_type": "code",
   "execution_count": null,
   "id": "d58c7e08",
   "metadata": {},
   "outputs": [],
   "source": []
  }
 ],
 "metadata": {
  "kernelspec": {
   "display_name": "Python 3 (ipykernel)",
   "language": "python",
   "name": "python3"
  },
  "language_info": {
   "codemirror_mode": {
    "name": "ipython",
    "version": 3
   },
   "file_extension": ".py",
   "mimetype": "text/x-python",
   "name": "python",
   "nbconvert_exporter": "python",
   "pygments_lexer": "ipython3",
   "version": "3.9.6"
  }
 },
 "nbformat": 4,
 "nbformat_minor": 5
}
