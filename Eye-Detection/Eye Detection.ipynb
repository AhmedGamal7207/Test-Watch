{
 "cells": [
  {
   "cell_type": "code",
   "execution_count": 3,
   "id": "9694ee19",
   "metadata": {},
   "outputs": [],
   "source": [
    "from tensorflow.keras.models import Sequential, load_model\n",
    "from tensorflow.keras.layers import Dense, Convolution2D, MaxPooling2D, Flatten \n",
    "from tensorflow.keras.preprocessing import image\n",
    "import numpy as np"
   ]
  },
  {
   "cell_type": "code",
   "execution_count": 2,
   "id": "ea51f459",
   "metadata": {},
   "outputs": [],
   "source": [
    "from tensorflow.keras.preprocessing.image import ImageDataGenerator\n",
    "train_datagen = ImageDataGenerator (rescale= 1./255, shear_range= 0.2, zoom_range= 0.2, horizontal_flip=True)\n",
    "test_datagen = ImageDataGenerator (rescale= 1./255)"
   ]
  },
  {
   "cell_type": "code",
   "execution_count": 4,
   "id": "648f9141",
   "metadata": {},
   "outputs": [
    {
     "name": "stdout",
     "output_type": "stream",
     "text": [
      "Found 8749 images belonging to 2 classes.\n",
      "Found 2018 images belonging to 2 classes.\n"
     ]
    }
   ],
   "source": [
    "x_train = train_datagen.flow_from_directory(r\"C:\\Users\\sonali\\Downloads\\eye detection\\eye detection\\train\",target_size = (64,64),batch_size = 32,class_mode = \"categorical\")\n",
    "x_test = test_datagen.flow_from_directory(r\"C:\\Users\\sonali\\Downloads\\eye detection\\eye detection\\test\",target_size = (64,64),batch_size = 32,class_mode = \"categorical\")"
   ]
  },
  {
   "cell_type": "code",
   "execution_count": 5,
   "id": "6804e531",
   "metadata": {},
   "outputs": [
    {
     "data": {
      "text/plain": [
       "{'closed': 0, 'open': 1}"
      ]
     },
     "execution_count": 5,
     "metadata": {},
     "output_type": "execute_result"
    }
   ],
   "source": [
    "x_train.class_indices"
   ]
  },
  {
   "cell_type": "code",
   "execution_count": 6,
   "id": "1a7290d9",
   "metadata": {},
   "outputs": [],
   "source": [
    "model= Sequential()\n",
    "model.add(Convolution2D(32,(3,3), input_shape=(64,64,3)))\n",
    "model.add(Flatten())\n",
    "model.add(Dense(units=128, kernel_initializer=\"random_uniform\", activation= \"relu\"))\n",
    "#add output layer\n",
    "model.add(Dense(units=2, kernel_initializer=\"random_uniform\", activation= \"softmax\"))\n",
    "#compile the model\n",
    "model.compile(optimizer=\"adam\", loss=\"categorical_crossentropy\" , metrics=[\"accuracy\"])"
   ]
  },
  {
   "cell_type": "code",
   "execution_count": 7,
   "id": "b1fbe004",
   "metadata": {},
   "outputs": [
    {
     "name": "stderr",
     "output_type": "stream",
     "text": [
      "c:\\users\\sonali\\appdata\\local\\programs\\python\\python39\\lib\\site-packages\\keras\\engine\\training.py:1972: UserWarning: `Model.fit_generator` is deprecated and will be removed in a future version. Please use `Model.fit`, which supports generators.\n",
      "  warnings.warn('`Model.fit_generator` is deprecated and '\n"
     ]
    },
    {
     "name": "stdout",
     "output_type": "stream",
     "text": [
      "Epoch 1/40\n",
      "274/274 [==============================] - 30s 109ms/step - loss: 0.3025 - accuracy: 0.8932 - val_loss: 0.4379 - val_accuracy: 0.8438\n",
      "Epoch 2/40\n",
      "274/274 [==============================] - 28s 102ms/step - loss: 0.1412 - accuracy: 0.9494 - val_loss: 0.1521 - val_accuracy: 0.9484\n",
      "Epoch 3/40\n",
      "274/274 [==============================] - 30s 110ms/step - loss: 0.1119 - accuracy: 0.9623 - val_loss: 0.1694 - val_accuracy: 0.9516\n",
      "Epoch 4/40\n",
      "274/274 [==============================] - 29s 107ms/step - loss: 0.0968 - accuracy: 0.9682 - val_loss: 0.2460 - val_accuracy: 0.9141\n",
      "Epoch 5/40\n",
      "274/274 [==============================] - 30s 109ms/step - loss: 0.0795 - accuracy: 0.9728 - val_loss: 0.2428 - val_accuracy: 0.9109\n",
      "Epoch 6/40\n",
      "274/274 [==============================] - 33s 120ms/step - loss: 0.0846 - accuracy: 0.9718 - val_loss: 0.1378 - val_accuracy: 0.9578\n",
      "Epoch 7/40\n",
      "274/274 [==============================] - 33s 120ms/step - loss: 0.0558 - accuracy: 0.9811 - val_loss: 0.1913 - val_accuracy: 0.9563\n",
      "Epoch 8/40\n",
      "274/274 [==============================] - 32s 115ms/step - loss: 0.0504 - accuracy: 0.9827 - val_loss: 0.1970 - val_accuracy: 0.9375\n",
      "Epoch 9/40\n",
      "274/274 [==============================] - 31s 113ms/step - loss: 0.0606 - accuracy: 0.9799 - val_loss: 0.2267 - val_accuracy: 0.9500\n",
      "Epoch 10/40\n",
      "274/274 [==============================] - 31s 114ms/step - loss: 0.0609 - accuracy: 0.9792 - val_loss: 0.2170 - val_accuracy: 0.9578\n",
      "Epoch 11/40\n",
      "274/274 [==============================] - 33s 121ms/step - loss: 0.0578 - accuracy: 0.9802 - val_loss: 0.1965 - val_accuracy: 0.9328\n",
      "Epoch 12/40\n",
      "274/274 [==============================] - 31s 114ms/step - loss: 0.0487 - accuracy: 0.9845 - val_loss: 0.1961 - val_accuracy: 0.9625\n",
      "Epoch 13/40\n",
      "274/274 [==============================] - 32s 116ms/step - loss: 0.0462 - accuracy: 0.9849 - val_loss: 0.2501 - val_accuracy: 0.9438\n",
      "Epoch 14/40\n",
      "274/274 [==============================] - 32s 116ms/step - loss: 0.0462 - accuracy: 0.9859 - val_loss: 0.2201 - val_accuracy: 0.9406\n",
      "Epoch 15/40\n",
      "274/274 [==============================] - 30s 110ms/step - loss: 0.0382 - accuracy: 0.9879 - val_loss: 0.1390 - val_accuracy: 0.9625\n",
      "Epoch 16/40\n",
      "274/274 [==============================] - 30s 110ms/step - loss: 0.0327 - accuracy: 0.9894 - val_loss: 0.2150 - val_accuracy: 0.9328\n",
      "Epoch 17/40\n",
      "274/274 [==============================] - 30s 111ms/step - loss: 0.0356 - accuracy: 0.9882 - val_loss: 0.2801 - val_accuracy: 0.9547\n",
      "Epoch 18/40\n",
      "274/274 [==============================] - 31s 113ms/step - loss: 0.0411 - accuracy: 0.9862 - val_loss: 0.1546 - val_accuracy: 0.9672\n",
      "Epoch 19/40\n",
      "274/274 [==============================] - 33s 120ms/step - loss: 0.0589 - accuracy: 0.9809 - val_loss: 0.2578 - val_accuracy: 0.9328\n",
      "Epoch 20/40\n",
      "274/274 [==============================] - 34s 125ms/step - loss: 0.0467 - accuracy: 0.9857 - val_loss: 0.1968 - val_accuracy: 0.9516\n",
      "Epoch 21/40\n",
      "274/274 [==============================] - 33s 119ms/step - loss: 0.0272 - accuracy: 0.9913 - val_loss: 0.1397 - val_accuracy: 0.9531\n",
      "Epoch 22/40\n",
      "274/274 [==============================] - 32s 116ms/step - loss: 0.0224 - accuracy: 0.9931 - val_loss: 0.1677 - val_accuracy: 0.9594\n",
      "Epoch 23/40\n",
      "274/274 [==============================] - 32s 115ms/step - loss: 0.0223 - accuracy: 0.9929 - val_loss: 0.2514 - val_accuracy: 0.9469\n",
      "Epoch 24/40\n",
      "274/274 [==============================] - 31s 115ms/step - loss: 0.0270 - accuracy: 0.9926 - val_loss: 0.2102 - val_accuracy: 0.9703\n",
      "Epoch 25/40\n",
      "274/274 [==============================] - 31s 114ms/step - loss: 0.0415 - accuracy: 0.9846 - val_loss: 0.1748 - val_accuracy: 0.9703\n",
      "Epoch 26/40\n",
      "274/274 [==============================] - 31s 115ms/step - loss: 0.0323 - accuracy: 0.9896 - val_loss: 0.2196 - val_accuracy: 0.9656\n",
      "Epoch 27/40\n",
      "274/274 [==============================] - 31s 114ms/step - loss: 0.0305 - accuracy: 0.9901 - val_loss: 0.2891 - val_accuracy: 0.9422\n",
      "Epoch 28/40\n",
      "274/274 [==============================] - 32s 115ms/step - loss: 0.0216 - accuracy: 0.9936 - val_loss: 0.3715 - val_accuracy: 0.9297\n",
      "Epoch 29/40\n",
      "274/274 [==============================] - 32s 117ms/step - loss: 0.0378 - accuracy: 0.9873 - val_loss: 0.3071 - val_accuracy: 0.9359\n",
      "Epoch 30/40\n",
      "274/274 [==============================] - 31s 112ms/step - loss: 0.0322 - accuracy: 0.9909 - val_loss: 0.3840 - val_accuracy: 0.9469\n",
      "Epoch 31/40\n",
      "274/274 [==============================] - 31s 115ms/step - loss: 0.0345 - accuracy: 0.9906 - val_loss: 0.1508 - val_accuracy: 0.9484\n",
      "Epoch 32/40\n",
      "274/274 [==============================] - 32s 117ms/step - loss: 0.0301 - accuracy: 0.9917 - val_loss: 0.1546 - val_accuracy: 0.9641\n",
      "Epoch 33/40\n",
      "274/274 [==============================] - 32s 117ms/step - loss: 0.0235 - accuracy: 0.9920 - val_loss: 0.2112 - val_accuracy: 0.9672\n",
      "Epoch 34/40\n",
      "274/274 [==============================] - 32s 117ms/step - loss: 0.0245 - accuracy: 0.9928 - val_loss: 0.1875 - val_accuracy: 0.9469\n",
      "Epoch 35/40\n",
      "274/274 [==============================] - 33s 119ms/step - loss: 0.0303 - accuracy: 0.9911 - val_loss: 0.4761 - val_accuracy: 0.9328\n",
      "Epoch 36/40\n",
      "274/274 [==============================] - 34s 123ms/step - loss: 0.0974 - accuracy: 0.9672 - val_loss: 0.1831 - val_accuracy: 0.9484\n",
      "Epoch 37/40\n",
      "274/274 [==============================] - 33s 121ms/step - loss: 0.0225 - accuracy: 0.9922 - val_loss: 0.3404 - val_accuracy: 0.9438\n",
      "Epoch 38/40\n",
      "274/274 [==============================] - 33s 119ms/step - loss: 0.0259 - accuracy: 0.9927 - val_loss: 0.3211 - val_accuracy: 0.9406\n",
      "Epoch 39/40\n",
      "274/274 [==============================] - 35s 126ms/step - loss: 0.0163 - accuracy: 0.9950 - val_loss: 0.3281 - val_accuracy: 0.9359\n",
      "Epoch 40/40\n",
      "274/274 [==============================] - 33s 121ms/step - loss: 0.0231 - accuracy: 0.9926 - val_loss: 0.4326 - val_accuracy: 0.9062\n"
     ]
    },
    {
     "data": {
      "text/plain": [
       "<keras.callbacks.History at 0x1751a2a7af0>"
      ]
     },
     "execution_count": 7,
     "metadata": {},
     "output_type": "execute_result"
    }
   ],
   "source": [
    "model.fit(x_train, epochs=40, validation_data= x_test, validation_steps=20)"
   ]
  },
  {
   "cell_type": "code",
   "execution_count": 1,
   "id": "bc8ab470",
   "metadata": {},
   "outputs": [
    {
     "ename": "NameError",
     "evalue": "name 'model' is not defined",
     "output_type": "error",
     "traceback": [
      "\u001b[1;31m---------------------------------------------------------------------------\u001b[0m",
      "\u001b[1;31mNameError\u001b[0m                                 Traceback (most recent call last)",
      "\u001b[1;32m~\\AppData\\Local\\Temp/ipykernel_46348/3590939978.py\u001b[0m in \u001b[0;36m<module>\u001b[1;34m\u001b[0m\n\u001b[1;32m----> 1\u001b[1;33m \u001b[0mprint\u001b[0m\u001b[1;33m(\u001b[0m\u001b[0mmodel\u001b[0m\u001b[1;33m.\u001b[0m\u001b[0msummary\u001b[0m\u001b[1;33m(\u001b[0m\u001b[1;33m)\u001b[0m\u001b[1;33m)\u001b[0m\u001b[1;33m\u001b[0m\u001b[1;33m\u001b[0m\u001b[0m\n\u001b[0m",
      "\u001b[1;31mNameError\u001b[0m: name 'model' is not defined"
     ]
    }
   ],
   "source": [
    "print(model.summary())"
   ]
  },
  {
   "cell_type": "code",
   "execution_count": null,
   "id": "205e4c6f",
   "metadata": {},
   "outputs": [],
   "source": [
    "model.save(\"eye_detection.h5\")"
   ]
  },
  {
   "cell_type": "code",
   "execution_count": 4,
   "id": "c2774989",
   "metadata": {},
   "outputs": [],
   "source": [
    "model= load_model(\"eye_detection.h5\")"
   ]
  },
  {
   "cell_type": "code",
   "execution_count": 8,
   "id": "143f1763",
   "metadata": {},
   "outputs": [],
   "source": [
    "img=image.load_img(r\"C:\\Users\\sonali\\Downloads\\eye detection\\images\\closedperson2.jpg\", target_size= (64,64))\n",
    "x=image.img_to_array(img)\n",
    "x=np.expand_dims(x,axis=0)"
   ]
  },
  {
   "cell_type": "code",
   "execution_count": 9,
   "id": "ee40d693",
   "metadata": {},
   "outputs": [],
   "source": [
    "pred=np.argmax(model.predict(x))"
   ]
  },
  {
   "cell_type": "code",
   "execution_count": 10,
   "id": "d2d0f714",
   "metadata": {},
   "outputs": [
    {
     "name": "stdout",
     "output_type": "stream",
     "text": [
      "closed eye\n"
     ]
    }
   ],
   "source": [
    "if pred == 0:\n",
    "    print(\"closed eye\")\n",
    "else:\n",
    "    print(\"open eye\")"
   ]
  },
  {
   "cell_type": "code",
   "execution_count": null,
   "id": "63139af7",
   "metadata": {},
   "outputs": [],
   "source": []
  }
 ],
 "metadata": {
  "kernelspec": {
   "display_name": "Python 3 (ipykernel)",
   "language": "python",
   "name": "python3"
  },
  "language_info": {
   "codemirror_mode": {
    "name": "ipython",
    "version": 3
   },
   "file_extension": ".py",
   "mimetype": "text/x-python",
   "name": "python",
   "nbconvert_exporter": "python",
   "pygments_lexer": "ipython3",
   "version": "3.9.6"
  }
 },
 "nbformat": 4,
 "nbformat_minor": 5
}
